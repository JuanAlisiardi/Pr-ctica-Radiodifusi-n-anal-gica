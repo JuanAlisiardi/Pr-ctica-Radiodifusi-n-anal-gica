{
 "cells": [
  {
   "cell_type": "code",
   "execution_count": 15,
   "metadata": {},
   "outputs": [],
   "source": [
    "import numpy as np\n",
    "import matplotlib.pyplot as plt\n",
    "import scipy as sc"
   ]
  },
  {
   "cell_type": "code",
   "execution_count": 16,
   "metadata": {},
   "outputs": [
    {
     "data": {
      "image/png": "[encoded data removed]",
      "text/plain": [
       "<Figure size 432x288 with 1 Axes>"
      ]
     },
     "metadata": {
      "needs_background": "light"
     },
     "output_type": "display_data"
    }
   ],
   "source": [
    "N=5000\n",
    "t=np.linspace(0,1e-3,N) \n",
    "ts=t[1] - t[0]\n",
    "fs=1/ts\n",
    "fmsj=1e3 # frecuencia del mensaje\n",
    "fc=1e6 # frecuencia de la portadora\n",
    "\n",
    "m=0.5 #índice de modulación\n",
    "\n",
    "msj=np.sin(2*np.pi*fmsj*t,dtype=\"float32\")\n",
    "VAM=(1+m*msj)*np.cos(2*np.pi*fc*t,dtype=\"float32\")\n",
    "plt.plot(t,VAM)\n",
    "\n",
    "f=open(\"am.dat\",'wb')\n",
    "np.ndarray.tofile(VAM,f,sep=\"\",format=\"%f\")\n",
    "f.close()"
   ]
  },
  {
   "cell_type": "code",
   "execution_count": null,
   "metadata": {},
   "outputs": [],
   "source": []
  }
 ],
 "metadata": {
  "kernelspec": {
   "display_name": "Python 3",
   "language": "python",
   "name": "python3"
  },
  "language_info": {
   "codemirror_mode": {
    "name": "ipython",
    "version": 3
   },
   "file_extension": ".py",
   "mimetype": "text/x-python",
   "name": "python",
   "nbconvert_exporter": "python",
   "pygments_lexer": "ipython3",
   "version": "3.8.3"
  }
 },
 "nbformat": 4,
 "nbformat_minor": 4
}
