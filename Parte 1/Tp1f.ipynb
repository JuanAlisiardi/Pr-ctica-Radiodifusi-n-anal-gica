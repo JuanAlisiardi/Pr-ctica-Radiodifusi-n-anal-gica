{
 "cells": [
  {
   "cell_type": "code",
   "execution_count": null,
   "metadata": {},
   "outputs": [],
   "source": [
    "import numpy as np\n",
    "import matplotlib.pyplot as plt\n",
    "\n",
    "data = np.loadtxt(\"signal_tp1f.dat\")\n",
    "\n",
    "rectangular = np.ones(len(data))\n",
    "hann = np.hanning(len(data))\n",
    "hamming = np.hamming(len(data))\n",
    "\n",
    "rect_spec = np.abs(np.fft.fft(data*rectangular))**2\n",
    "hann_spec = np.abs(np.fft.fft(data*hann))**2\n",
    "hamming_spec = np.abs(np.fft.fft(data*hamming))**2\n",
    "\n",
    "plt.plot(rect_spec, label='Rectangular')\n",
    "plt.plot(hann_spec, label='Hann')\n",
    "plt.plot(hamming_spec, label='Hamming')\n",
    "plt.legend()\n",
    "plt.show()\n",
    "\n",
    "pot = np.sum(data**2)/len(data)\n",
    "print(\"Potencia de la señal: \",pot)"
   ]
  }
 ],
 "metadata": {
  "kernelspec": {
   "display_name": "Python 3",
   "language": "python",
   "name": "python3"
  },
  "language_info": {
   "codemirror_mode": {
    "name": "ipython",
    "version": 3
   },
   "file_extension": ".py",
   "mimetype": "text/x-python",
   "name": "python",
   "nbconvert_exporter": "python",
   "pygments_lexer": "ipython3",
   "version": "3.8.3"
  }
 },
 "nbformat": 4,
 "nbformat_minor": 4
}
